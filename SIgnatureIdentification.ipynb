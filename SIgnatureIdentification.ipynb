{
 "cells": [
  {
   "cell_type": "markdown",
   "id": "31807666",
   "metadata": {},
   "source": [
    "# Compare Signatures"
   ]
  },
  {
   "cell_type": "code",
   "execution_count": 51,
   "id": "1a699bbb",
   "metadata": {},
   "outputs": [],
   "source": [
    "import numpy as np\n",
    "from scipy.stats import linregress\n",
    "import numpy as np\n",
    "from sklearn.linear_model import LinearRegression\n",
    "from sklearn.preprocessing import StandardScaler\n",
    "import warnings\n",
    "import re"
   ]
  },
  {
   "cell_type": "code",
   "execution_count": 36,
   "id": "2e036380",
   "metadata": {},
   "outputs": [],
   "source": [
    "warnings.filterwarnings(\"ignore\")"
   ]
  },
  {
   "cell_type": "code",
   "execution_count": 38,
   "id": "c542ba63",
   "metadata": {},
   "outputs": [],
   "source": [
    "def CompareSignature(isAAorEUR, signature):\n",
    "    # Calculate the statistics of using the signatures\n",
    "    # computes for each of the signatures and each of the datasets\n",
    "    # Input: dirName - the name of the directory of the training files\n",
    "    #        isAAorEUR - train an AA signature (=0) or EUR (=1)\n",
    "    #        signature - the signature learned on the training set\n",
    "    # Output: stats - the statistics of the signature, with R2, p-value\n",
    "    # compared to random signatures and p-value compared to shuffled signatures\n",
    "\n",
    "    if isAAorEUR == 0:\n",
    "        fileName = 'AA_validation.txt'\n",
    "    elif isAAorEUR == 1:\n",
    "        fileName = 'EUR_validation.txt'\n",
    "    else:\n",
    "        raise ValueError('isAAorEUR can take the values 0 or 1 only')\n",
    "\n",
    "    exprData, residuals, geneTissue = LoadData(fileName)\n",
    "\n",
    "    NUM_RAND = 10000\n",
    "\n",
    "    stats = np.zeros(3)\n",
    "    rand_stats = np.zeros((NUM_RAND, 2))\n",
    "#     print(rand_stats)\n",
    "\n",
    "    # stats\n",
    "    stats[0] = RegressSig(exprData, geneTissue, signature, residuals)\n",
    "    # random signatures statistics\n",
    "    rand_stats[:, 0] = RunRandSignatures(exprData, geneTissue, signature, residuals, NUM_RAND)[0]\n",
    "    # shuffled signatures statistics\n",
    "    rand_stats[:, 1] = RunShuffledSig(exprData, geneTissue, signature, residuals, NUM_RAND)[0]\n",
    "\n",
    "    stats[1] = np.sum(stats[0] < rand_stats[:, 0]) / NUM_RAND\n",
    "    stats[2] = np.sum(stats[0] < rand_stats[:, 1]) / NUM_RAND\n",
    "\n",
    "    return stats\n"
   ]
  },
  {
   "cell_type": "markdown",
   "id": "c7e174e1",
   "metadata": {},
   "source": [
    "# CreateLassoSignature, SelectSignature"
   ]
  },
  {
   "cell_type": "code",
   "execution_count": 48,
   "id": "11ab9933",
   "metadata": {},
   "outputs": [],
   "source": [
    "import numpy as np\n",
    "from sklearn.linear_model import LassoCV\n",
    "from sklearn.utils import resample\n",
    "\n",
    "\n",
    "def CreateLassoSignature(data, phen, featureNames, SUBSETS=100):\n",
    "    # CreateLassoSignature uses lasso with preconditioning and bootstrapping to create a signature.\n",
    "    # Input: data - an MxN matrix, where M is the number of samples and N is the number of features\n",
    "    #        phen - the dependent variable of size M\n",
    "    #        featureNames - the names of the features (N-sized list)\n",
    "    #        SUBSETS - the optional number of subsets to run. default is 100\n",
    "    # Output: allSigsGenes - a list with the union of all the signature genes. Is used to produce the signature\n",
    "    #         featuresSets - a list with SUBSETS number of signatures\n",
    "\n",
    "    if len(featureNames) != data.shape[1]:\n",
    "        raise ValueError(\"Number of feature names must match the number of features in data.\")\n",
    "\n",
    "    if SUBSETS < 1:\n",
    "        raise ValueError(\"SUBSETS must be a positive integer.\")\n",
    "\n",
    "    allSigsGenes = []\n",
    "    featuresSets = []\n",
    "\n",
    "    for subset in range(SUBSETS):\n",
    "#         print(f\"{subset+1},\", end=\"\")\n",
    "\n",
    "        data_subset, phen_subset = resample(data, phen, random_state=subset)\n",
    "\n",
    "        lasso = LassoCV(cv=5, n_alphas=400)\n",
    "        lasso.fit(data_subset, phen_subset)\n",
    "\n",
    "        selected_features = np.nonzero(lasso.coef_)[0]\n",
    "        selected_feature_names = [featureNames[i] for i in selected_features]\n",
    "\n",
    "        if selected_features.size > 0:\n",
    "            featuresSets.append(selected_feature_names)\n",
    "            allSigsGenes.extend(selected_feature_names)\n",
    "\n",
    "#     print(\"\\n\")\n",
    "\n",
    "    allSigsGenes = list(set(allSigsGenes))\n",
    "\n",
    "    return allSigsGenes, featuresSets\n",
    "\n",
    "\n",
    "def SelectSignature(feature_sets, features, index, cutoff):\n",
    "    feature_appears = np.zeros((len(features),))\n",
    "    features_str = [f[0] + f[1] for f in features]\n",
    "\n",
    "    for subset in range(len(feature_sets)):\n",
    "        feature_set = feature_sets[subset][index]\n",
    "\n",
    "        if feature_set:\n",
    "            feature_set_str = [f[0] + f[1] for f in feature_set]\n",
    "            idxFeature = [i for i, f in enumerate(features_str) if f in feature_set_str]\n",
    "            feature_appears[idxFeature] += 1\n",
    "\n",
    "    feature_appears /= len(feature_sets)\n",
    "    selected_features = feature_appears >= cutoff\n",
    "    signature = [features[i] for i, select in enumerate(selected_features) if select]\n",
    "    feature_appears = feature_appears[selected_features]\n",
    "\n",
    "    return signature, feature_appears\n"
   ]
  },
  {
   "cell_type": "markdown",
   "id": "476f644c",
   "metadata": {},
   "source": [
    "# LoadData"
   ]
  },
  {
   "cell_type": "code",
   "execution_count": 40,
   "id": "3cf8990f",
   "metadata": {},
   "outputs": [],
   "source": [
    "def LoadData(fileName):\n",
    "    # LoadData loads the relevant files.\n",
    "    # Input: fileName - the name of the file to load\n",
    "    # Output: exprData - the imputed expression data matrix\n",
    "    #         residuals - the residuals (dependent variable)\n",
    "    #         geneTissue - the names of the gene-tissue names (feature names)\n",
    "\n",
    "    with open(fileName, 'r') as fid:\n",
    "        tissues = fid.readline().strip().split('\\t')\n",
    "        geneNames = fid.readline().strip().split('\\t')\n",
    "        geneTissue = [tissues[i] + geneNames[i] for i in range(1, len(tissues))]\n",
    "\n",
    "    data = np.loadtxt(fileName, delimiter='\\t', skiprows=2)\n",
    "    residuals = data[:, 0]\n",
    "    exprData = data[:, 1:]\n",
    "\n",
    "    return exprData, residuals, geneTissue\n"
   ]
  },
  {
   "cell_type": "markdown",
   "id": "3e7d8126",
   "metadata": {},
   "source": [
    "# RegressSig"
   ]
  },
  {
   "cell_type": "code",
   "execution_count": 41,
   "id": "532b4980",
   "metadata": {},
   "outputs": [],
   "source": [
    "def RegressSig(exprData, geneTissue, signature, residuals):\n",
    "    # RegressSig - Run dose regression based on the signature\n",
    "    # Inputs: exprData - the imputed expression data matrix\n",
    "    #         geneTissue - the names of the gene-tissue names (feature names)\n",
    "    #         signature - the trained signature\n",
    "    #         residuals - the residuals (dependent variable)\n",
    "    # Outputs: regression_stats - the statistics of the regression (R2)\n",
    "    top_features_idx = [i for i, item in enumerate(geneTissue) if item in signature]\n",
    "\n",
    "\n",
    "#     features_str = [f[0] + f[1] for f in geneTissue]\n",
    "#     sigFeatures_str = [f[0] + f[1] for f in signature]\n",
    "#     top_features_idx = [i for i, f in enumerate(features_str) if f in sigFeatures_str]\n",
    "\n",
    "    selectedData = exprData[:, top_features_idx]\n",
    "    nonconst_idx = np.std(selectedData, axis=0) > np.finfo(float).eps\n",
    "    selectedData = selectedData[:, nonconst_idx]\n",
    "    selectedData = (selectedData - np.mean(selectedData, axis=0)) / np.std(selectedData, axis=0)\n",
    "\n",
    "    X = np.concatenate((np.ones((selectedData.shape[0], 1)), selectedData), axis=1)\n",
    "    y = residuals\n",
    "\n",
    "    reg = LinearRegression()\n",
    "    reg.fit(X, y)\n",
    "\n",
    "    regression_stats = reg.score(X, y)\n",
    "\n",
    "    return regression_stats\n"
   ]
  },
  {
   "cell_type": "markdown",
   "id": "f6439a48",
   "metadata": {},
   "source": [
    "# RunRandSignatures"
   ]
  },
  {
   "cell_type": "code",
   "execution_count": 42,
   "id": "a475195d",
   "metadata": {},
   "outputs": [],
   "source": [
    "def RunRandSignatures(exprData, geneTissue, signature, residuals, numRands):\n",
    "    # RunRandSignatures - Run dose regression based on the signature\n",
    "    # Inputs: exprData - the imputed expression data matrix\n",
    "    #         geneTissue - the names of the gene-tissue names (feature names)\n",
    "    #         signature - the trained signature\n",
    "    #         residuals - the residuals (dependent variable)\n",
    "    #         numRands - the number of random regressions to perform\n",
    "    # Outputs: rand_stats - the statistics of the regression repeats (R2)\n",
    "\n",
    "    np.random.seed()\n",
    "    rand_stats = np.zeros((numRands, 1))\n",
    "    np.warnings.filterwarnings('ignore', category=np.RankWarning)\n",
    "    top_features_idx = [i for i, item in enumerate(geneTissue) if item in signature]\n",
    "#     print(top_features_idx)\n",
    "    total_indices=np.arange(0,len(geneTissue))\n",
    "    remaining_features_idx=new_array = total_indices[~np.in1d(total_indices, top_features_idx)]\n",
    "#     print(remaining_features_idx)\n",
    "\n",
    "#     features_str = [f[0] + f[1] for f in geneTissue]\n",
    "#     sigFeatures_str = [f[0] + f[1] for f in signature]\n",
    "#     relFeatures_str = [f[0] + f[1] for f in geneTissue]\n",
    "#     top_features_idx = np.in1d(features_str, sigFeatures_str)\n",
    "#     rel_features_idx = np.in1d(features_str, relFeatures_str)\n",
    "#     remaining_features_idx = np.where(top_features_idx == False)\n",
    "#     print(top_features_idx)\n",
    "#     print(remaining_features_idx.shape)\n",
    "#     remaining_features_idx = np.where((rel_features_idx - top_features_idx) > 0)[0]\n",
    "\n",
    "    if np.sum(top_features_idx) > 0:\n",
    "        for r in range(numRands):\n",
    "            p = np.random.permutation(len(remaining_features_idx))\n",
    "            rand_features_idx = remaining_features_idx[p[:len(signature)]]\n",
    "\n",
    "            test_data = exprData[:, rand_features_idx]\n",
    "            nonconst_idx = np.std(test_data, axis=0) > np.finfo(float).eps\n",
    "            scaler = StandardScaler()\n",
    "            test_data = scaler.fit_transform(test_data)\n",
    "#             test_data = (test_data - np.mean(test_data, axis=0)) / np.std(test_data, axis=0)\n",
    "\n",
    "            X = np.concatenate((np.ones((test_data.shape[0], 1)), test_data[:, nonconst_idx]), axis=1)\n",
    "            y = residuals\n",
    "\n",
    "            reg = LinearRegression()\n",
    "            reg.fit(X, y)\n",
    "\n",
    "            rand_stats[r, 0] = reg.score(X, y)\n",
    "\n",
    "    np.warnings.filterwarnings('default', category=np.RankWarning)\n",
    "#     print(rand_stats)\n",
    "    return rand_stats\n"
   ]
  },
  {
   "cell_type": "markdown",
   "id": "3dadf960",
   "metadata": {},
   "source": [
    "# RunShuffledSig"
   ]
  },
  {
   "cell_type": "code",
   "execution_count": 43,
   "id": "f24171a2",
   "metadata": {},
   "outputs": [],
   "source": [
    "def RunShuffledSig(exprData, geneTissue, signature, residuals, numRands):\n",
    "    # RunShuffledSig - Run dose regression based on the signature\n",
    "    # Inputs: exprData - the imputed expression data matrix\n",
    "    #         geneTissue - the names of the gene-tissue names (feature names)\n",
    "    #         signature - the trained signature\n",
    "    #         residuals - the residuals (dependent variable)\n",
    "    #         numRands - the number of shuffled regressions to perform\n",
    "    # Outputs: rand_stats - the statistics of the regression repeats (R2)\n",
    "\n",
    "    np.random.seed()\n",
    "    rand_stats = np.zeros((numRands, 1))\n",
    "    np.warnings.filterwarnings('ignore', category=np.RankWarning)\n",
    "\n",
    "    features_str = [f[0] + f[1] for f in geneTissue]\n",
    "    sigFeatures_str = [f[0] + f[1] for f in signature]\n",
    "    top_features_idx = np.in1d(features_str, sigFeatures_str)\n",
    "\n",
    "    if np.sum(top_features_idx) == 0:\n",
    "        return rand_stats\n",
    "\n",
    "    test_data = exprData[:, top_features_idx]\n",
    "    nonconst_idx = np.std(test_data, axis=0) > np.finfo(float).eps\n",
    "    scaler = StandardScaler()\n",
    "    test_data = scaler.fit_transform(test_data)\n",
    "    \n",
    "#     test_data = (test_data - np.mean(test_data, axis=0)) / np.std(test_data, axis=0)\n",
    "\n",
    "    for r in range(numRands):\n",
    "        p = np.random.permutation(exprData.shape[0])\n",
    "        rand_residuals = residuals[p]\n",
    "\n",
    "        X = np.concatenate((np.ones((test_data.shape[0], 1)), test_data[:, nonconst_idx]), axis=1)\n",
    "        y = rand_residuals\n",
    "\n",
    "        reg = LinearRegression()\n",
    "        reg.fit(X, y)\n",
    "\n",
    "        rand_stats[r, 0] = reg.score(X, y)\n",
    "\n",
    "    np.warnings.filterwarnings('default', category=np.RankWarning)\n",
    "    return rand_stats\n"
   ]
  },
  {
   "cell_type": "markdown",
   "id": "1accf429",
   "metadata": {},
   "source": [
    "# SelectRobustSignature"
   ]
  },
  {
   "cell_type": "code",
   "execution_count": 44,
   "id": "2f652dd1",
   "metadata": {},
   "outputs": [],
   "source": [
    "def SelectRobustSignature(signatureSets, selectedFeatures, cutoff):\n",
    "    # SelectRobustSignature selects a robust signature from multiple LASSO runs.\n",
    "    # Inputs: signatureSets - the set of signatures returned from multiple runs\n",
    "    #         selectedFeatures - the selectedFeatures in any of the runs\n",
    "    #         cutoff - the minimal percentage of signatures a gene-tissue needs\n",
    "    #                  to be in, in order to be considered robust\n",
    "    # Output: signature - a cell array with the robust signature\n",
    "    feature_appears={}\n",
    "    for subset in signatureSets:\n",
    "        for feature in subset:\n",
    "            if feature in feature_appears:\n",
    "                feature_appears[feature]+=1\n",
    "            else:\n",
    "                feature_appears[feature]=1\n",
    "    feature_appears = {key: value / len(signatureSets) for key, value in feature_appears.items()}\n",
    "    signature = [key for key, value in feature_appears.items() if value > cutoff]\n",
    "    \n",
    "\n",
    "    return signature\n"
   ]
  },
  {
   "cell_type": "markdown",
   "id": "d1c7047d",
   "metadata": {},
   "source": [
    "# runCreateSignature"
   ]
  },
  {
   "cell_type": "code",
   "execution_count": 45,
   "id": "e21fe787",
   "metadata": {},
   "outputs": [],
   "source": [
    "def runCreateSignature(isAAorEUR):\n",
    "    # runCreateSignature loads the relevant files and creates a robust signature via LASSO.\n",
    "    # Inputs: dirName - the name of the directory of the training files\n",
    "    #         isAAorEUR - train an AA signature (=0) or EUR (=1)\n",
    "    # Output: signature - a cell array with the robust signature\n",
    "\n",
    "    if isAAorEUR == 0:\n",
    "        fileName = 'AA_train.txt'\n",
    "    elif isAAorEUR == 1:\n",
    "        fileName = 'EUR_train.txt'\n",
    "    else:\n",
    "        raise ValueError('isAAorEUR can take the values 0 or 1 only')\n",
    "\n",
    "    NUMBER_OF_SUBSETS = 100\n",
    "    SUBSET_CUTOFF = 0.5\n",
    "\n",
    "    exprData, residuals, geneTissue = LoadData(fileName)\n",
    "\n",
    "    allGenesSelected, features_sets = CreateLassoSignature(exprData, residuals, geneTissue, NUMBER_OF_SUBSETS)\n",
    "#     print(\"All Genes Selected : \",allGenesSelected)\n",
    "#     print(\"Feature Sets : \",features_sets)\n",
    "\n",
    "    signature = SelectRobustSignature(features_sets, allGenesSelected[0], SUBSET_CUTOFF)\n",
    "\n",
    "    return signature\n"
   ]
  },
  {
   "cell_type": "markdown",
   "id": "1879c0d5",
   "metadata": {},
   "source": [
    "# Signatures for AA Cohort"
   ]
  },
  {
   "cell_type": "code",
   "execution_count": 49,
   "id": "faf38fe2",
   "metadata": {
    "scrolled": true
   },
   "outputs": [
    {
     "name": "stdout",
     "output_type": "stream",
     "text": [
      "['Artery_CoronarySNAP25', 'Brain_Caudate_basal_gangliaNCOA1', 'Brain_CerebellumALOX5', 'Brain_CerebellumSTX4', 'Brain_CortexALOX5', 'Brain_Frontal_Cortex_BA9LRPAP1', 'Colon_TransverseLGALS2', 'Esophagus_MucosaSMAD3', 'Heart_Left_VentricleDAB1', 'LiverVKORC1', 'PancreasPROZ', 'PancreasPLCG2', 'SpleenPROZ', 'ThyroidTNFSF4', 'Whole_BloodAKT1', 'Artery_TibialLRPAP1', 'Esophagus_MucosaALOX5', 'Nerve_TibialLRPAP1', 'Adrenal_GlandSERPINF2']\n"
     ]
    }
   ],
   "source": [
    "signaturesAA = runCreateSignature(0)\n",
    "print(signaturesAA)"
   ]
  },
  {
   "cell_type": "markdown",
   "id": "fa6a9666",
   "metadata": {},
   "source": [
    "# Signatures for EUR Cohort"
   ]
  },
  {
   "cell_type": "code",
   "execution_count": 50,
   "id": "d75de347",
   "metadata": {
    "scrolled": true
   },
   "outputs": [
    {
     "name": "stdout",
     "output_type": "stream",
     "text": [
      "['Adipose_SubcutaneousCRKL', 'Adipose_Visceral_OmentumGCLM', 'Adrenal_GlandCUBN', 'Adrenal_GlandCYP1A1', 'Artery_TibialPRKCB', 'Brain_Cerebellar_HemisphereGGCX', 'Brain_Cerebellar_HemisphereLRPAP1', 'Brain_CerebellumALOX5', 'Brain_CerebellumGGCX', 'Brain_Putamen_basal_gangliaSERPINF2', 'Colon_SigmoidTNFRSF1B', 'Esophagus_Gastroesophageal_JunctionPRKCB', 'Esophagus_MucosaF5', 'Esophagus_MuscularisARRB1', 'Heart_Atrial_AppendageITGA4', 'LiverVKORC1', 'PancreasPLCG2', 'PituitaryF2R', 'Skin_Not_Sun_Exposed_SuprapubicGGCX', 'TestisABCB1', 'TestisF2R', 'ThyroidLRP8', 'ThyroidVKORC1', 'Adrenal_GlandCTNNB1', 'Esophagus_MuscularisUBE2I', 'Muscle_SkeletalPSMA6', 'Whole_BloodLGALS2']\n"
     ]
    }
   ],
   "source": [
    "signaturesEUR = runCreateSignature(1)\n",
    "print(signaturesEUR)"
   ]
  },
  {
   "cell_type": "code",
   "execution_count": 74,
   "id": "c51f0f8f",
   "metadata": {},
   "outputs": [],
   "source": [
    "def find_first_capital(string):\n",
    "    for i in range(len(string) - 1):\n",
    "        if string[i].isupper() and (string[i + 1].isupper() or string[i + 1].isdigit()) :\n",
    "            return i\n",
    "    return -1"
   ]
  },
  {
   "cell_type": "code",
   "execution_count": 78,
   "id": "68e9be0c",
   "metadata": {},
   "outputs": [
    {
     "name": "stdout",
     "output_type": "stream",
     "text": [
      "Gene _ Tissue Signatures for AA Cohort\n",
      "--------------------------------------\n",
      "SNAP25 ['Artery_Coronary']\n",
      "NCOA1 ['Brain_Caudate_basal_ganglia']\n",
      "ALOX5 ['Brain_Cerebellum', 'Brain_Cortex', 'Esophagus_Mucosa']\n",
      "STX4 ['Brain_Cerebellum']\n",
      "BA9LRPAP1 ['Brain_Frontal_Cortex_']\n",
      "LGALS2 ['Colon_Transverse']\n",
      "SMAD3 ['Esophagus_Mucosa']\n",
      "DAB1 ['Heart_Left_Ventricle']\n",
      "VKORC1 ['Liver']\n",
      "PROZ ['Pancreas', 'Spleen']\n",
      "PLCG2 ['Pancreas']\n",
      "TNFSF4 ['Thyroid']\n",
      "AKT1 ['Whole_Blood']\n",
      "LRPAP1 ['Artery_Tibial', 'Nerve_Tibial']\n",
      "SERPINF2 ['Adrenal_Gland']\n"
     ]
    }
   ],
   "source": [
    "geneAA={}\n",
    "for sig in signaturesAA:\n",
    "    i=find_first_capital(sig)\n",
    "    t=sig[i:]\n",
    "    g=sig[:i]\n",
    "    if t in geneAA:\n",
    "        geneAA[t].append(g)\n",
    "    else:\n",
    "        geneAA[t]=[g]\n",
    "print(\"Gene _ Tissue Signatures for AA Cohort\")\n",
    "print(\"--------------------------------------\")\n",
    "for key,value in geneAA.items():\n",
    "    print(key,value)"
   ]
  },
  {
   "cell_type": "code",
   "execution_count": 77,
   "id": "34071169",
   "metadata": {
    "scrolled": false
   },
   "outputs": [
    {
     "name": "stdout",
     "output_type": "stream",
     "text": [
      "Gene _ Tissue Signatures for EUR Cohort\n",
      "---------------------------------------\n",
      "CRKL ['Adipose_Subcutaneous']\n",
      "GCLM ['Adipose_Visceral_Omentum']\n",
      "CUBN ['Adrenal_Gland']\n",
      "CYP1A1 ['Adrenal_Gland']\n",
      "PRKCB ['Artery_Tibial', 'Esophagus_Gastroesophageal_Junction']\n",
      "GGCX ['Brain_Cerebellar_Hemisphere', 'Brain_Cerebellum', 'Skin_Not_Sun_Exposed_Suprapubic']\n",
      "LRPAP1 ['Brain_Cerebellar_Hemisphere']\n",
      "ALOX5 ['Brain_Cerebellum']\n",
      "SERPINF2 ['Brain_Putamen_basal_ganglia']\n",
      "TNFRSF1B ['Colon_Sigmoid']\n",
      "F5 ['Esophagus_Mucosa']\n",
      "ARRB1 ['Esophagus_Muscularis']\n",
      "ITGA4 ['Heart_Atrial_Appendage']\n",
      "VKORC1 ['Liver', 'Thyroid']\n",
      "PLCG2 ['Pancreas']\n",
      "F2R ['Pituitary', 'Testis']\n",
      "ABCB1 ['Testis']\n",
      "LRP8 ['Thyroid']\n",
      "CTNNB1 ['Adrenal_Gland']\n",
      "UBE2I ['Esophagus_Muscularis']\n",
      "PSMA6 ['Muscle_Skeletal']\n",
      "LGALS2 ['Whole_Blood']\n"
     ]
    }
   ],
   "source": [
    "geneEUR={}\n",
    "for sig in signaturesEUR:\n",
    "    i=find_first_capital(sig)\n",
    "    t=sig[i:]\n",
    "    g=sig[:i]\n",
    "    if t in geneEUR:\n",
    "        geneEUR[t].append(g)\n",
    "    else:\n",
    "        geneEUR[t]=[g]\n",
    "print(\"Gene _ Tissue Signatures for EUR Cohort\")\n",
    "print(\"---------------------------------------\")\n",
    "for key,value in geneEUR.items():\n",
    "    print(key,value)"
   ]
  }
 ],
 "metadata": {
  "kernelspec": {
   "display_name": "Python 3 (ipykernel)",
   "language": "python",
   "name": "python3"
  },
  "language_info": {
   "codemirror_mode": {
    "name": "ipython",
    "version": 3
   },
   "file_extension": ".py",
   "mimetype": "text/x-python",
   "name": "python",
   "nbconvert_exporter": "python",
   "pygments_lexer": "ipython3",
   "version": "3.10.4"
  }
 },
 "nbformat": 4,
 "nbformat_minor": 5
}
