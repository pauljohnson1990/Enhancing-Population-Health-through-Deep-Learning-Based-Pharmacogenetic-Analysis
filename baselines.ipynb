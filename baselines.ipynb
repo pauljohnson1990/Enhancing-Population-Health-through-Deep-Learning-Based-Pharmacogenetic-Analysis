{
 "cells": [
  {
   "cell_type": "code",
   "execution_count": 1,
   "id": "a48bc82c",
   "metadata": {},
   "outputs": [],
   "source": [
    "import numpy as np\n",
    "from sklearn.metrics import mean_absolute_error\n",
    "from sklearn.metrics import r2_score\n",
    "from sklearn.metrics import mean_squared_error\n",
    "from sklearn.impute import KNNImputer\n",
    "from fancyimpute import IterativeImputer\n",
    "from sklearn.decomposition import NMF\n",
    "from sklearn.preprocessing import MinMaxScaler"
   ]
  },
  {
   "cell_type": "code",
   "execution_count": 2,
   "id": "abbe4e7e",
   "metadata": {},
   "outputs": [],
   "source": [
    "def LoadData(fileName):\n",
    "    # LoadData loads the relevant files.\n",
    "    # Input: fileName - the name of the file to load\n",
    "    # Output: exprData - the imputed expression data matrix\n",
    "    #         residuals - the residuals (dependent variable)\n",
    "    #         geneTissue - the names of the gene-tissue names (feature names)\n",
    "\n",
    "    with open(fileName, 'r') as fid:\n",
    "        tissues = fid.readline().strip().split('\\t')\n",
    "        geneNames = fid.readline().strip().split('\\t')\n",
    "        geneTissue = [tissues[i] + geneNames[i] for i in range(1, len(tissues))]\n",
    "\n",
    "    data = np.loadtxt(fileName, delimiter='\\t', skiprows=2)\n",
    "    residuals = data[:, 0]\n",
    "    exprData = data[:, 1:]\n",
    "\n",
    "    return exprData, residuals, geneTissue"
   ]
  },
  {
   "cell_type": "code",
   "execution_count": 3,
   "id": "2355941b",
   "metadata": {},
   "outputs": [],
   "source": [
    "aa_expr,aa_res,aa_gt=LoadData('AA_train.txt')\n",
    "aa_expr_test,aa_res_test,_=LoadData('AA_validation.txt')\n",
    "e_expr,e_res,e_gt=LoadData('EUR_train.txt')\n",
    "e_expr_test,e_res_test,_=LoadData('EUR_validation.txt')\n",
    "X = np.vstack((aa_expr,e_expr,aa_expr_test,e_expr_test))\n",
    "y = np.concatenate((aa_res,e_res,aa_res_test,e_res_test))"
   ]
  },
  {
   "cell_type": "code",
   "execution_count": 4,
   "id": "9c35f734",
   "metadata": {},
   "outputs": [],
   "source": [
    "def missing_masking(data, prob):\n",
    "    missing_mask = np.random.binomial(1, 1 - prob, data.shape)\n",
    "    missing_data = data * missing_mask\n",
    "    return missing_mask, missing_data"
   ]
  },
  {
   "cell_type": "code",
   "execution_count": 5,
   "id": "2e1d518f",
   "metadata": {},
   "outputs": [],
   "source": [
    "data = X"
   ]
  },
  {
   "cell_type": "code",
   "execution_count": 6,
   "id": "cc48cc68",
   "metadata": {},
   "outputs": [],
   "source": [
    "# Create missing mask\n",
    "missing_prob = 0.2  # Probability of missing values\n",
    "missing_mask, missing_data = missing_masking(data, missing_prob)"
   ]
  },
  {
   "cell_type": "code",
   "execution_count": 7,
   "id": "6c3a9f52",
   "metadata": {},
   "outputs": [],
   "source": [
    "missing_data[missing_mask==0]=np.nan"
   ]
  },
  {
   "cell_type": "markdown",
   "id": "5742aa5d",
   "metadata": {},
   "source": [
    "# Non negative Matrix Factorization"
   ]
  },
  {
   "cell_type": "code",
   "execution_count": 11,
   "id": "d5c11904",
   "metadata": {},
   "outputs": [
    {
     "name": "stderr",
     "output_type": "stream",
     "text": [
      "C:\\Users\\91994\\AppData\\Local\\Programs\\Python\\Python310\\lib\\site-packages\\sklearn\\decomposition\\_nmf.py:1692: ConvergenceWarning: Maximum number of iterations 200 reached. Increase it to improve convergence.\n",
      "  warnings.warn(\n"
     ]
    }
   ],
   "source": [
    "data_with_missing = missing_data\n",
    "# Preprocessing\n",
    "scaler = MinMaxScaler()\n",
    "data_scaled = scaler.fit_transform(data_with_missing)\n",
    "\n",
    "# Imputation using NMF\n",
    "n_components = 5  # Set the number of components (you can tune this parameter)\n",
    "\n",
    "# Mask the missing values as 0 to ensure non-negativity during NMF\n",
    "data_scaled[np.isnan(data_scaled)] = 0\n",
    "\n",
    "# Perform NMF\n",
    "nmf_model = NMF(n_components=n_components)\n",
    "data_imputed = nmf_model.fit_transform(data_scaled)\n",
    "\n",
    "# Reconstruct the imputed data\n",
    "data_imputed_reconstructed = np.dot(data_imputed, nmf_model.components_)\n",
    "data_imputed = scaler.inverse_transform(data_imputed_reconstructed)\n",
    "\n",
    "data_imputed = scaler.inverse_transform(data_imputed_reconstructed)\n",
    "mis = data[missing_mask==0]\n",
    "imp = data_imputed[missing_mask==0]"
   ]
  },
  {
   "cell_type": "code",
   "execution_count": 12,
   "id": "ff6361ba",
   "metadata": {},
   "outputs": [
    {
     "name": "stdout",
     "output_type": "stream",
     "text": [
      "Evaluation\n",
      " MAE :  0.13668973146724298  | RMSE :  0.22396284990762078  | R2 :  -0.3273176738003447\n"
     ]
    }
   ],
   "source": [
    "rmse_nmf = np.sqrt(mean_squared_error(mis, imp))\n",
    "mae_nmf = mean_absolute_error(mis, imp)\n",
    "r2_nmf = r2_score(mis, imp)\n",
    "print(\"Evaluation\\n\",\"MAE : \",mae_nmf,\" | RMSE : \",rmse_nmf,\" | R2 : \",r2_nmf) "
   ]
  },
  {
   "cell_type": "markdown",
   "id": "adc7e6e0",
   "metadata": {},
   "source": [
    "# Average"
   ]
  },
  {
   "cell_type": "markdown",
   "id": "dcb4083a",
   "metadata": {},
   "source": [
    "#### ROW Average Imputation"
   ]
  },
  {
   "cell_type": "code",
   "execution_count": 13,
   "id": "0f17b334",
   "metadata": {},
   "outputs": [],
   "source": [
    "row_mean = np.nanmean(missing_data, axis=1)\n",
    "matrix_row_filled = np.where(np.isnan(missing_data), np.tile(row_mean, (539, 1)).T, missing_data)"
   ]
  },
  {
   "cell_type": "code",
   "execution_count": 14,
   "id": "d6a16815",
   "metadata": {},
   "outputs": [],
   "source": [
    "mis = data[missing_mask==0]\n",
    "imp = matrix_row_filled[missing_mask==0]"
   ]
  },
  {
   "cell_type": "code",
   "execution_count": 15,
   "id": "e614b597",
   "metadata": {},
   "outputs": [
    {
     "name": "stdout",
     "output_type": "stream",
     "text": [
      "Evaluation\n",
      " MAE :  0.10990698568268753  | RMSE :  0.19404783937271755  | R2 :  0.0035843737865243197\n"
     ]
    }
   ],
   "source": [
    "rmse_row = np.sqrt(mean_squared_error(mis, imp))\n",
    "mae_row = mean_absolute_error(mis, imp)\n",
    "r2_row = r2_score(mis,imp)\n",
    "print(\"Evaluation\\n\",\"MAE : \",mae_row,\" | RMSE : \",rmse_row,\" | R2 : \",r2_row) "
   ]
  },
  {
   "cell_type": "markdown",
   "id": "00407534",
   "metadata": {},
   "source": [
    "#### Column average imputation"
   ]
  },
  {
   "cell_type": "code",
   "execution_count": 16,
   "id": "30886c33",
   "metadata": {},
   "outputs": [],
   "source": [
    "col_mean = np.nanmean(missing_data, axis=0)\n",
    "matrix_col_filled = np.where(np.isnan(missing_data), np.tile(col_mean, (741, 1)), missing_data)"
   ]
  },
  {
   "cell_type": "code",
   "execution_count": 17,
   "id": "a8ea3607",
   "metadata": {},
   "outputs": [],
   "source": [
    "mis = data[missing_mask==0]\n",
    "imp = matrix_col_filled[missing_mask==0]"
   ]
  },
  {
   "cell_type": "code",
   "execution_count": 18,
   "id": "43ce137b",
   "metadata": {},
   "outputs": [
    {
     "name": "stdout",
     "output_type": "stream",
     "text": [
      "Evaluation\n",
      " MAE :  0.10506802388385234  | RMSE :  0.18862343073243357  | R2 :  0.058513306889333094\n"
     ]
    }
   ],
   "source": [
    "rmse_col = np.sqrt(mean_squared_error(mis, imp))\n",
    "mae_col = mean_absolute_error(mis, imp)\n",
    "r2_col = r2_score(mis,imp)\n",
    "print(\"Evaluation\\n\",\"MAE : \",mae_col,\" | RMSE : \",rmse_col,\" | R2 : \",r2_col) "
   ]
  },
  {
   "cell_type": "markdown",
   "id": "0a704b6d",
   "metadata": {},
   "source": [
    "# Median"
   ]
  },
  {
   "cell_type": "markdown",
   "id": "f199029d",
   "metadata": {},
   "source": [
    "#### Row median imputation"
   ]
  },
  {
   "cell_type": "code",
   "execution_count": 19,
   "id": "d07bdf82",
   "metadata": {},
   "outputs": [],
   "source": [
    "row_median = np.nanmedian(missing_data, axis=1)\n",
    "row_median[np.isnan(row_median)] = 0\n",
    "matrix_row_filled = np.where(np.isnan(missing_data), np.tile(row_median, (539, 1)).T, missing_data)"
   ]
  },
  {
   "cell_type": "code",
   "execution_count": 20,
   "id": "3eb93bbb",
   "metadata": {},
   "outputs": [],
   "source": [
    "mis = data[missing_mask==0]\n",
    "imp = matrix_row_filled[missing_mask==0]"
   ]
  },
  {
   "cell_type": "code",
   "execution_count": 21,
   "id": "020e4024",
   "metadata": {},
   "outputs": [
    {
     "name": "stdout",
     "output_type": "stream",
     "text": [
      "Evaluation\n",
      " MAE :  0.10522863634928194  | RMSE :  0.1943966390832384  | R2 :  -9.46638131882338e-07\n"
     ]
    }
   ],
   "source": [
    "rmse_row = np.sqrt(mean_squared_error(mis, imp))\n",
    "mae_row = mean_absolute_error(mis, imp)\n",
    "r2_row = r2_score(mis,imp)\n",
    "print(\"Evaluation\\n\",\"MAE : \",mae_row,\" | RMSE : \",rmse_row,\" | R2 : \",r2_row)"
   ]
  },
  {
   "cell_type": "markdown",
   "id": "e7ec6274",
   "metadata": {},
   "source": [
    "#### Column median imputation"
   ]
  },
  {
   "cell_type": "code",
   "execution_count": 22,
   "id": "a22cc522",
   "metadata": {},
   "outputs": [],
   "source": [
    "col_median = np.nanmedian(missing_data, axis=0)\n",
    "col_median[np.isnan(col_median)] = 0\n",
    "matrix_col_filled = np.where(np.isnan(missing_data), np.tile(col_median, (741, 1)), missing_data)"
   ]
  },
  {
   "cell_type": "code",
   "execution_count": 23,
   "id": "ed4d3a67",
   "metadata": {},
   "outputs": [],
   "source": [
    "mis = data[missing_mask==0]\n",
    "imp = matrix_col_filled[missing_mask==0]"
   ]
  },
  {
   "cell_type": "code",
   "execution_count": 24,
   "id": "7ce24380",
   "metadata": {},
   "outputs": [
    {
     "name": "stdout",
     "output_type": "stream",
     "text": [
      "Evaluation\n",
      " MAE :  0.10142592327859619  | RMSE :  0.1929202638129641  | R2 :  0.015130697505526203\n"
     ]
    }
   ],
   "source": [
    "rmse_col = np.sqrt(mean_squared_error(mis, imp))\n",
    "mae_col = mean_absolute_error(mis, imp)\n",
    "r2_col = r2_score(mis,imp)\n",
    "print(\"Evaluation\\n\",\"MAE : \",mae_col,\" | RMSE : \",rmse_col,\" | R2 : \",r2_col) "
   ]
  },
  {
   "cell_type": "markdown",
   "id": "ce053030",
   "metadata": {},
   "source": [
    "# KNN"
   ]
  },
  {
   "cell_type": "code",
   "execution_count": 27,
   "id": "28c6ee38",
   "metadata": {},
   "outputs": [],
   "source": [
    "knn_imputer = KNNImputer(n_neighbors=5)\n",
    "data_imputed = knn_imputer.fit_transform(missing_data)\n",
    "mis = data[missing_mask==0]\n",
    "imp = data_imputed[missing_mask==0]"
   ]
  },
  {
   "cell_type": "code",
   "execution_count": 28,
   "id": "07242578",
   "metadata": {},
   "outputs": [],
   "source": [
    "mis = data[missing_mask==0]\n",
    "imp = data_imputed[missing_mask==0]"
   ]
  },
  {
   "cell_type": "code",
   "execution_count": 29,
   "id": "df0ec431",
   "metadata": {},
   "outputs": [
    {
     "name": "stdout",
     "output_type": "stream",
     "text": [
      "Evaluation\n",
      " MAE :  0.09240432632521534  | RMSE :  0.17242449305494584  | R2 :  0.2132788561232336\n"
     ]
    }
   ],
   "source": [
    "rmse_knn = np.sqrt(mean_squared_error(mis, imp))\n",
    "mae_knn = mean_absolute_error(mis, imp)\n",
    "r2_knn = r2_score(mis,imp)\n",
    "print(\"Evaluation\\n\",\"MAE : \",mae_knn,\" | RMSE : \",rmse_knn,\" | R2 : \",r2_knn) "
   ]
  },
  {
   "cell_type": "markdown",
   "id": "52ead9bb",
   "metadata": {},
   "source": [
    "# MICE (Multiple Imputation by Chained Equations)\n"
   ]
  },
  {
   "cell_type": "code",
   "execution_count": 30,
   "id": "1b96220e",
   "metadata": {},
   "outputs": [
    {
     "name": "stderr",
     "output_type": "stream",
     "text": [
      "C:\\Users\\91994\\AppData\\Local\\Programs\\Python\\Python310\\lib\\site-packages\\sklearn\\impute\\_iterative.py:713: ConvergenceWarning: [IterativeImputer] Early stopping criterion not reached.\n",
      "  warnings.warn(\n"
     ]
    }
   ],
   "source": [
    "imputer = IterativeImputer()\n",
    "data_imputed = imputer.fit_transform(missing_data)"
   ]
  },
  {
   "cell_type": "code",
   "execution_count": 31,
   "id": "f38b0ec6",
   "metadata": {},
   "outputs": [],
   "source": [
    "mis = data[missing_mask==0]\n",
    "imp = data_imputed[missing_mask==0]"
   ]
  },
  {
   "cell_type": "code",
   "execution_count": 32,
   "id": "b30ff0f1",
   "metadata": {},
   "outputs": [
    {
     "name": "stdout",
     "output_type": "stream",
     "text": [
      "Evaluation\n",
      " MAE :  0.07751760632134129  | RMSE :  0.14672789258795174  | R2 :  0.4302973144779638\n"
     ]
    }
   ],
   "source": [
    "rmse_mice = np.sqrt(mean_squared_error(mis, imp))\n",
    "mae_mice = mean_absolute_error(mis, imp)\n",
    "r2_mice = r2_score(mis,imp)\n",
    "print(\"Evaluation\\n\",\"MAE : \",mae_mice,\" | RMSE : \",rmse_mice,\" | R2 : \",r2_mice) "
   ]
  },
  {
   "cell_type": "code",
   "execution_count": null,
   "id": "0929129d",
   "metadata": {},
   "outputs": [],
   "source": []
  }
 ],
 "metadata": {
  "kernelspec": {
   "display_name": "Python 3 (ipykernel)",
   "language": "python",
   "name": "python3"
  },
  "language_info": {
   "codemirror_mode": {
    "name": "ipython",
    "version": 3
   },
   "file_extension": ".py",
   "mimetype": "text/x-python",
   "name": "python",
   "nbconvert_exporter": "python",
   "pygments_lexer": "ipython3",
   "version": "3.10.4"
  }
 },
 "nbformat": 4,
 "nbformat_minor": 5
}
