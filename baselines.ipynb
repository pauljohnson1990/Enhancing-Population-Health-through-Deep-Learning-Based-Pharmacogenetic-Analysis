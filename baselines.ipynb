{
 "cells": [
  {
   "cell_type": "code",
   "execution_count": 52,
   "id": "a48bc82c",
   "metadata": {},
   "outputs": [],
   "source": [
    "import numpy as np\n",
    "from sklearn.metrics import mean_absolute_error\n",
    "from sklearn.metrics import r2_score\n",
    "from sklearn.metrics import mean_squared_error\n",
    "from sklearn.impute import KNNImputer\n",
    "from fancyimpute import IterativeImputer"
   ]
  },
  {
   "cell_type": "code",
   "execution_count": 2,
   "id": "abbe4e7e",
   "metadata": {},
   "outputs": [],
   "source": [
    "def LoadData(fileName):\n",
    "    # LoadData loads the relevant files.\n",
    "    # Input: fileName - the name of the file to load\n",
    "    # Output: exprData - the imputed expression data matrix\n",
    "    #         residuals - the residuals (dependent variable)\n",
    "    #         geneTissue - the names of the gene-tissue names (feature names)\n",
    "\n",
    "    with open(fileName, 'r') as fid:\n",
    "        tissues = fid.readline().strip().split('\\t')\n",
    "        geneNames = fid.readline().strip().split('\\t')\n",
    "        geneTissue = [tissues[i] + geneNames[i] for i in range(1, len(tissues))]\n",
    "\n",
    "    data = np.loadtxt(fileName, delimiter='\\t', skiprows=2)\n",
    "    residuals = data[:, 0]\n",
    "    exprData = data[:, 1:]\n",
    "\n",
    "    return exprData, residuals, geneTissue"
   ]
  },
  {
   "cell_type": "code",
   "execution_count": 3,
   "id": "2355941b",
   "metadata": {},
   "outputs": [],
   "source": [
    "aa_expr,aa_res,aa_gt=LoadData('AA_train.txt')\n",
    "aa_expr_test,aa_res_test,_=LoadData('AA_validation.txt')\n",
    "e_expr,e_res,e_gt=LoadData('EUR_train.txt')\n",
    "e_expr_test,e_res_test,_=LoadData('EUR_validation.txt')\n",
    "X = np.vstack((aa_expr,e_expr,aa_expr_test,e_expr_test))\n",
    "y = np.concatenate((aa_res,e_res,aa_res_test,e_res_test))"
   ]
  },
  {
   "cell_type": "code",
   "execution_count": 4,
   "id": "9c35f734",
   "metadata": {},
   "outputs": [],
   "source": [
    "def missing_masking(data, prob):\n",
    "    missing_mask = np.random.binomial(1, 1 - prob, data.shape)\n",
    "    missing_data = data * missing_mask\n",
    "    return missing_mask, missing_data"
   ]
  },
  {
   "cell_type": "code",
   "execution_count": 5,
   "id": "2e1d518f",
   "metadata": {},
   "outputs": [],
   "source": [
    "data = X"
   ]
  },
  {
   "cell_type": "code",
   "execution_count": 6,
   "id": "cc48cc68",
   "metadata": {},
   "outputs": [],
   "source": [
    "# Create missing mask\n",
    "missing_prob = 0.2  # Probability of missing values\n",
    "missing_mask, missing_data = missing_masking(data, missing_prob)"
   ]
  },
  {
   "cell_type": "code",
   "execution_count": 39,
   "id": "6c3a9f52",
   "metadata": {},
   "outputs": [],
   "source": [
    "missing_data[missing_mask==0]=np.nan"
   ]
  },
  {
   "cell_type": "markdown",
   "id": "adc7e6e0",
   "metadata": {},
   "source": [
    "# Average"
   ]
  },
  {
   "cell_type": "markdown",
   "id": "dcb4083a",
   "metadata": {},
   "source": [
    "#### ROW Average Imputation"
   ]
  },
  {
   "cell_type": "code",
   "execution_count": 23,
   "id": "0f17b334",
   "metadata": {},
   "outputs": [],
   "source": [
    "row_mean = np.nanmean(missing_data, axis=1)\n",
    "matrix_row_filled = np.where(np.isnan(missing_data), np.tile(row_mean, (539, 1)).T, missing_data)"
   ]
  },
  {
   "cell_type": "code",
   "execution_count": 33,
   "id": "e614b597",
   "metadata": {},
   "outputs": [
    {
     "name": "stdout",
     "output_type": "stream",
     "text": [
      "Evaluation\n",
      " MAE :  0.021897565501802545  | RMSE :  0.08713727210959035  | R2 :  -1.6331038030048143e+56\n"
     ]
    }
   ],
   "source": [
    "rmse_row = np.sqrt(mean_squared_error(data, matrix_row_filled))\n",
    "mae_row = mean_absolute_error(data, matrix_row_filled)\n",
    "r2_row = r2_score(data,matrix_row_filled)\n",
    "print(\"Evaluation\\n\",\"MAE : \",mae_row,\" | RMSE : \",rmse_row,\" | R2 : \",r2_row) "
   ]
  },
  {
   "cell_type": "markdown",
   "id": "00407534",
   "metadata": {},
   "source": [
    "#### Column average imputation"
   ]
  },
  {
   "cell_type": "code",
   "execution_count": 36,
   "id": "30886c33",
   "metadata": {},
   "outputs": [],
   "source": [
    "col_mean = np.nanmean(missing_data, axis=0)\n",
    "matrix_col_filled = np.where(np.isnan(missing_data), np.tile(col_mean, (741, 1)), missing_data)"
   ]
  },
  {
   "cell_type": "code",
   "execution_count": 37,
   "id": "43ce137b",
   "metadata": {},
   "outputs": [
    {
     "name": "stdout",
     "output_type": "stream",
     "text": [
      "Evaluation\n",
      " MAE :  0.020936393938202923  | RMSE :  0.08483969786628859  | R2 :  0.7286998773477955\n"
     ]
    }
   ],
   "source": [
    "rmse_col = np.sqrt(mean_squared_error(data, matrix_col_filled))\n",
    "mae_col = mean_absolute_error(data, matrix_col_filled)\n",
    "r2_col = r2_score(data,matrix_col_filled)\n",
    "print(\"Evaluation\\n\",\"MAE : \",mae_col,\" | RMSE : \",rmse_col,\" | R2 : \",r2_col) "
   ]
  },
  {
   "cell_type": "markdown",
   "id": "0a704b6d",
   "metadata": {},
   "source": [
    "# Median"
   ]
  },
  {
   "cell_type": "markdown",
   "id": "f199029d",
   "metadata": {},
   "source": [
    "#### Row median imputation"
   ]
  },
  {
   "cell_type": "code",
   "execution_count": 41,
   "id": "d07bdf82",
   "metadata": {},
   "outputs": [],
   "source": [
    "row_median = np.nanmedian(missing_data, axis=1)\n",
    "row_median[np.isnan(row_median)] = 0\n",
    "matrix_row_filled = np.where(np.isnan(missing_data), np.tile(row_median, (539, 1)).T, missing_data)"
   ]
  },
  {
   "cell_type": "code",
   "execution_count": 42,
   "id": "020e4024",
   "metadata": {},
   "outputs": [
    {
     "name": "stdout",
     "output_type": "stream",
     "text": [
      "Evaluation\n",
      " MAE :  0.020986604877105134  | RMSE :  0.08732684120066023  | R2 :  -5.330269851044054e+46\n"
     ]
    }
   ],
   "source": [
    "rmse_row = np.sqrt(mean_squared_error(data, matrix_row_filled))\n",
    "mae_row = mean_absolute_error(data, matrix_row_filled)\n",
    "r2_row = r2_score(data,matrix_row_filled)\n",
    "print(\"Evaluation\\n\",\"MAE : \",mae_row,\" | RMSE : \",rmse_row,\" | R2 : \",r2_row)"
   ]
  },
  {
   "cell_type": "markdown",
   "id": "e7ec6274",
   "metadata": {},
   "source": [
    "#### Column median imputation"
   ]
  },
  {
   "cell_type": "code",
   "execution_count": 46,
   "id": "a22cc522",
   "metadata": {},
   "outputs": [],
   "source": [
    "col_median = np.nanmedian(missing_data, axis=0)\n",
    "col_median[np.isnan(col_median)] = 0\n",
    "matrix_col_filled = np.where(np.isnan(missing_data), np.tile(col_median, (741, 1)), missing_data)"
   ]
  },
  {
   "cell_type": "code",
   "execution_count": 47,
   "id": "7ce24380",
   "metadata": {},
   "outputs": [
    {
     "name": "stdout",
     "output_type": "stream",
     "text": [
      "Evaluation\n",
      " MAE :  0.020266310535232545  | RMSE :  0.0868692981605298  | R2 :  0.8200005874841568\n"
     ]
    }
   ],
   "source": [
    "rmse_col = np.sqrt(mean_squared_error(data, matrix_col_filled))\n",
    "mae_col = mean_absolute_error(data, matrix_col_filled)\n",
    "r2_col = r2_score(data,matrix_col_filled)\n",
    "print(\"Evaluation\\n\",\"MAE : \",mae_col,\" | RMSE : \",rmse_col,\" | R2 : \",r2_col) "
   ]
  },
  {
   "cell_type": "markdown",
   "id": "ce053030",
   "metadata": {},
   "source": [
    "# KNN"
   ]
  },
  {
   "cell_type": "code",
   "execution_count": 49,
   "id": "28c6ee38",
   "metadata": {},
   "outputs": [],
   "source": [
    "knn_imputer = KNNImputer(n_neighbors=5)\n",
    "data_imputed = knn_imputer.fit_transform(missing_data)"
   ]
  },
  {
   "cell_type": "code",
   "execution_count": 50,
   "id": "df0ec431",
   "metadata": {},
   "outputs": [
    {
     "name": "stdout",
     "output_type": "stream",
     "text": [
      "Evaluation\n",
      " MAE :  0.018292652814925835  | RMSE :  0.07693944181078974  | R2 :  0.8417765581298801\n"
     ]
    }
   ],
   "source": [
    "rmse_knn = np.sqrt(mean_squared_error(data, data_imputed))\n",
    "mae_knn = mean_absolute_error(data, data_imputed)\n",
    "r2_knn = r2_score(data,data_imputed)\n",
    "print(\"Evaluation\\n\",\"MAE : \",mae_knn,\" | RMSE : \",rmse_knn,\" | R2 : \",r2_knn) "
   ]
  },
  {
   "cell_type": "markdown",
   "id": "52ead9bb",
   "metadata": {},
   "source": [
    "# MICE (Multiple Imputation by Chained Equations)\n"
   ]
  },
  {
   "cell_type": "code",
   "execution_count": 53,
   "id": "1b96220e",
   "metadata": {},
   "outputs": [
    {
     "name": "stderr",
     "output_type": "stream",
     "text": [
      "C:\\Users\\91994\\AppData\\Local\\Programs\\Python\\Python310\\lib\\site-packages\\sklearn\\impute\\_iterative.py:713: ConvergenceWarning: [IterativeImputer] Early stopping criterion not reached.\n",
      "  warnings.warn(\n"
     ]
    }
   ],
   "source": [
    "imputer = IterativeImputer()\n",
    "data_imputed = imputer.fit_transform(missing_data)"
   ]
  },
  {
   "cell_type": "code",
   "execution_count": 54,
   "id": "b30ff0f1",
   "metadata": {},
   "outputs": [
    {
     "name": "stdout",
     "output_type": "stream",
     "text": [
      "Evaluation\n",
      " MAE :  0.01541234813673493  | RMSE :  0.06569846958992737  | R2 :  0.8763551394590406\n"
     ]
    }
   ],
   "source": [
    "rmse_mice = np.sqrt(mean_squared_error(data, data_imputed))\n",
    "mae_mice = mean_absolute_error(data, data_imputed)\n",
    "r2_mice = r2_score(data,data_imputed)\n",
    "print(\"Evaluation\\n\",\"MAE : \",mae_mice,\" | RMSE : \",rmse_mice,\" | R2 : \",r2_mice) "
   ]
  },
  {
   "cell_type": "code",
   "execution_count": null,
   "id": "0929129d",
   "metadata": {},
   "outputs": [],
   "source": []
  }
 ],
 "metadata": {
  "kernelspec": {
   "display_name": "Python 3 (ipykernel)",
   "language": "python",
   "name": "python3"
  },
  "language_info": {
   "codemirror_mode": {
    "name": "ipython",
    "version": 3
   },
   "file_extension": ".py",
   "mimetype": "text/x-python",
   "name": "python",
   "nbconvert_exporter": "python",
   "pygments_lexer": "ipython3",
   "version": "3.10.4"
  }
 },
 "nbformat": 4,
 "nbformat_minor": 5
}
